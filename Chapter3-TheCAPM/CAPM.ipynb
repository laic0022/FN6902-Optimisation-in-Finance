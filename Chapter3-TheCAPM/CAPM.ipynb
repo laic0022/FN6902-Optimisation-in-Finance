{
 "cells": [
  {
   "cell_type": "code",
   "execution_count": 1,
   "metadata": {},
   "outputs": [],
   "source": [
    "import pandas as pd\n",
    "import numpy as np\n",
    "import matplotlib.pyplot as plt"
   ]
  },
  {
   "cell_type": "markdown",
   "metadata": {},
   "source": [
    "$\\mathrm{minimize:~}-t(\\mu^{\\prime},r)\\Bigg[\\!\\!\\begin{array}{c}{{x}}\\\\ {{x_{n+1}}}\\end{array}\\!\\Bigg]+\\frac{\\mathrm{1}}{2}\\left[\\begin{array}{c l}{{x}}&{{0}}\\\\ {{\\alpha_{n+1}}}\\end{array}\\right]\\left[\\begin{array}{c l}{{\\Sigma}}&{{0}}\\\\ {{0^{\\prime}}}&{{0}}\\end{array}\\right]\\left[\\begin{array}{c}{{x}}\\\\ {{x_{n+1}}}\\end{array}\\right]$\n",
    "\n",
    "$\\mathrm{subject~to:~} \\mu^{\\prime}x\\ +\\ x_{n+1}=1$"
   ]
  },
  {
   "cell_type": "markdown",
   "metadata": {},
   "source": [
    "$\\text{In partitioned matrix form, the optimality conditions for (3. 1) are}$\n",
    "\n",
    "$t\\left[\\begin{array}{c}{{\\mu}}\\\\ {{r}}\\end{array}\\right]\\;-\\;\\left[\\begin{array}{c}{{\\Sigma}}\\\\ {{0^{\\prime}}}\\end{array}\\right]\\left[\\begin{array}{c}{{x}}\\\\ {{x_{n+1}}}\\end{array}\\right]\\;=\\;u\\left[\\begin{array}{c}{{l}}\\\\ {{1}}\\end{array}\\right],$\n",
    "\n",
    "$l^{\\prime}x\\ +\\ x_{n+1}\\ =\\ 1.$\n",
    "\n",
    "$\\text{Capital Market Line}$\n",
    "\n",
    "$\\mu_{p}\\;-\\;r\\;=\\;\\sigma_{p}[\\big(\\mu\\;-\\;r l\\big)^{\\prime}\\Sigma^{-1}\\big(\\mu\\;-\\;r l\\big)]^{\\frac{1}{2}}.$"
   ]
  },
  {
   "cell_type": "code",
   "execution_count": 4,
   "metadata": {},
   "outputs": [],
   "source": [
    "n = 3\n",
    "mu = np.array([1.1, 1.2, 1.3]).reshape(-1, 1)\n",
    "cov = [[10**-2, 0 , 0], [0, 5*10**-2 , 0], [0, 0 , 7*10**-2]]\n",
    "l = np.ones(n).reshape(-1, 1)\n",
    "r = 1.02"
   ]
  },
  {
   "cell_type": "markdown",
   "metadata": {},
   "source": [
    "$\\left(\\mu-r l\\right)^{\\prime}\\Sigma^{-1}(\\mu-r l)$"
   ]
  },
  {
   "cell_type": "code",
   "execution_count": 8,
   "metadata": {},
   "outputs": [],
   "source": [
    "sr = np.transpose(mu - r * l) @ np.linalg.inv(cov) @ (mu - r * l)"
   ]
  },
  {
   "cell_type": "code",
   "execution_count": 9,
   "metadata": {},
   "outputs": [],
   "source": [
    "sigma_p = np.linspace(0, 0.5, 50)\n",
    "mu_p = r + np.sqrt(sr) * sigma_p"
   ]
  },
  {
   "cell_type": "code",
   "execution_count": 21,
   "metadata": {},
   "outputs": [
    {
     "data": {
      "text/plain": [
       "[<matplotlib.lines.Line2D at 0x2197e0123d0>]"
      ]
     },
     "execution_count": 21,
     "metadata": {},
     "output_type": "execute_result"
    },
    {
     "data": {
      "image/png": "[encoded data removed]",
      "text/plain": [
       "<Figure size 640x480 with 1 Axes>"
      ]
     },
     "metadata": {},
     "output_type": "display_data"
    }
   ],
   "source": [
    "plt.title('The Capital Market Line')\n",
    "plt.plot(sigma_p , mu_p.reshape(-1))"
   ]
  },
  {
   "cell_type": "markdown",
   "metadata": {},
   "source": [
    "$t_{m}~=~\\frac{1}{l^{\\prime}\\Sigma^{-1}(\\mu-r l)}.$"
   ]
  },
  {
   "cell_type": "code",
   "execution_count": 20,
   "metadata": {},
   "outputs": [
    {
     "data": {
      "text/plain": [
       "array([[0.06410256]])"
      ]
     },
     "execution_count": 20,
     "metadata": {},
     "output_type": "execute_result"
    }
   ],
   "source": [
    "tm = 1 / (np.transpose(l) @ np.linalg.inv(cov) @ (mu - r * l))\n",
    "tm"
   ]
  },
  {
   "cell_type": "markdown",
   "metadata": {},
   "source": [
    "$\\begin{array}{l l l}{{x_{m}}}&{{=}}&{{t_{m}\\Sigma^{-1}(\\mu-r l)}}\\end{array}$"
   ]
  },
  {
   "cell_type": "code",
   "execution_count": 19,
   "metadata": {},
   "outputs": [
    {
     "data": {
      "text/plain": [
       "array([[0.51282051],\n",
       "       [0.23076923],\n",
       "       [0.25641026]])"
      ]
     },
     "execution_count": 19,
     "metadata": {},
     "output_type": "execute_result"
    }
   ],
   "source": [
    "xm = tm * np.linalg.inv(cov) @ (mu - r * l)\n",
    "xm"
   ]
  },
  {
   "cell_type": "code",
   "execution_count": 25,
   "metadata": {},
   "outputs": [
    {
     "data": {
      "text/plain": [
       "array([[1.55177318]])"
      ]
     },
     "execution_count": 25,
     "metadata": {},
     "output_type": "execute_result"
    }
   ],
   "source": [
    "mu_m = np.transpose(xm) @ mu\n",
    "sigma_m2 = np.transpose(xm) @ cov @ xm\n",
    "\n",
    "# slope of CML\n",
    "(mu_m - r) / np.sqrt(sigma_m2)"
   ]
  },
  {
   "cell_type": "markdown",
   "metadata": {},
   "source": [
    "Security Market Line"
   ]
  },
  {
   "cell_type": "code",
   "execution_count": 29,
   "metadata": {},
   "outputs": [
    {
     "data": {
      "text/plain": [
       "array([[1.1],\n",
       "       [1.2],\n",
       "       [1.3]])"
      ]
     },
     "execution_count": 29,
     "metadata": {},
     "output_type": "execute_result"
    }
   ],
   "source": [
    "r * l + ((mu_m - r) / sigma_m2) * cov @ xm"
   ]
  },
  {
   "cell_type": "code",
   "execution_count": null,
   "metadata": {},
   "outputs": [],
   "source": []
  },
  {
   "cell_type": "code",
   "execution_count": null,
   "metadata": {},
   "outputs": [],
   "source": []
  }
 ],
 "metadata": {
  "kernelspec": {
   "display_name": "OneDrive",
   "language": "python",
   "name": "python3"
  },
  "language_info": {
   "codemirror_mode": {
    "name": "ipython",
    "version": 3
   },
   "file_extension": ".py",
   "mimetype": "text/x-python",
   "name": "python",
   "nbconvert_exporter": "python",
   "pygments_lexer": "ipython3",
   "version": "3.11.5"
  }
 },
 "nbformat": 4,
 "nbformat_minor": 2
}
