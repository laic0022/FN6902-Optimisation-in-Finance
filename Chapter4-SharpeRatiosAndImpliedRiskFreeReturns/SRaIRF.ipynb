{
 "cells": [
  {
   "cell_type": "code",
   "execution_count": 1,
   "metadata": {},
   "outputs": [],
   "source": [
    "import pandas as pd\n",
    "import numpy as np\n",
    "import matplotlib.pyplot as plt"
   ]
  },
  {
   "cell_type": "markdown",
   "metadata": {},
   "source": [
    "$r_{m}\\ =\\ \\alpha_{0}\\ -\\ {\\frac{\\alpha_{1}\\beta_{0}}{\\mu_{m}-\\alpha_{0}}}$"
   ]
  },
  {
   "cell_type": "code",
   "execution_count": 11,
   "metadata": {},
   "outputs": [],
   "source": [
    "n = 5\n",
    "mu = np.array([1.1, 1.15, 1.20, 1.27, 1.3]).reshape(-1, 1)\n",
    "cov = [[0.01, 0.0007 , 0, 0, 0.0006], [0.0007, 0.05 , 0.0001, 0, 0], [0, 0.0001 , 0.07, 0, 0], [0, 0 , 0, 0.08, 0], [0.0006, 0 , 0, 0, 0.09]]\n",
    "l = np.ones(n).reshape(-1, 1)\n",
    "r = 1.02"
   ]
  },
  {
   "cell_type": "code",
   "execution_count": 12,
   "metadata": {},
   "outputs": [
    {
     "data": {
      "text/plain": [
       "[[0.01, 0.0007, 0, 0, 0.0006],\n",
       " [0.0007, 0.05, 0.0001, 0, 0],\n",
       " [0, 0.0001, 0.07, 0, 0],\n",
       " [0, 0, 0, 0.08, 0],\n",
       " [0.0006, 0, 0, 0, 0.09]]"
      ]
     },
     "execution_count": 12,
     "metadata": {},
     "output_type": "execute_result"
    }
   ],
   "source": [
    "cov"
   ]
  },
  {
   "cell_type": "code",
   "execution_count": 13,
   "metadata": {},
   "outputs": [
    {
     "data": {
      "text/plain": [
       "array([[0.63729589],\n",
       "       [0.1208592 ],\n",
       "       [0.09266068],\n",
       "       [0.08122917],\n",
       "       [0.06795506]])"
      ]
     },
     "execution_count": 13,
     "metadata": {},
     "output_type": "execute_result"
    }
   ],
   "source": [
    "h0 = (np.linalg.inv(cov) @ l) / (np.transpose(l) @ np.linalg.inv(cov) @ l)\n",
    "h0"
   ]
  },
  {
   "cell_type": "code",
   "execution_count": 16,
   "metadata": {},
   "outputs": [
    {
     "data": {
      "text/plain": [
       "array([[-4.39191429],\n",
       "       [ 0.20567052],\n",
       "       [ 0.81814905],\n",
       "       [ 1.59113751],\n",
       "       [ 1.77695721]])"
      ]
     },
     "execution_count": 16,
     "metadata": {},
     "output_type": "execute_result"
    }
   ],
   "source": [
    "h1 = np.linalg.inv(cov) @ mu - (np.transpose(l) @ np.linalg.inv(cov) @ mu) * h0\n",
    "h1"
   ]
  },
  {
   "cell_type": "code",
   "execution_count": 17,
   "metadata": {},
   "outputs": [
    {
     "data": {
      "text/plain": [
       "array([[1.142709]])"
      ]
     },
     "execution_count": 17,
     "metadata": {},
     "output_type": "execute_result"
    }
   ],
   "source": [
    "a0 = np.transpose(mu) @ h0\n",
    "a0"
   ]
  },
  {
   "cell_type": "code",
   "execution_count": 19,
   "metadata": {},
   "outputs": [
    {
     "data": {
      "text/plain": [
       "array([[0.71798325]])"
      ]
     },
     "execution_count": 19,
     "metadata": {},
     "output_type": "execute_result"
    }
   ],
   "source": [
    "a1 = np.transpose(mu) @ h1\n",
    "a1"
   ]
  },
  {
   "cell_type": "code",
   "execution_count": 18,
   "metadata": {},
   "outputs": [
    {
     "data": {
      "text/plain": [
       "array([[0.00649833]])"
      ]
     },
     "execution_count": 18,
     "metadata": {},
     "output_type": "execute_result"
    }
   ],
   "source": [
    "b0 = np.transpose(h0) @ cov @ h0\n",
    "b0"
   ]
  },
  {
   "cell_type": "code",
   "execution_count": 21,
   "metadata": {},
   "outputs": [
    {
     "data": {
      "text/plain": [
       "array([[-5.20417043e-17]])"
      ]
     },
     "execution_count": 21,
     "metadata": {},
     "output_type": "execute_result"
    }
   ],
   "source": [
    "b1 = np.transpose(h0) @ cov @ h1\n",
    "b1"
   ]
  },
  {
   "cell_type": "code",
   "execution_count": 20,
   "metadata": {},
   "outputs": [
    {
     "data": {
      "text/plain": [
       "array([[0.71798325]])"
      ]
     },
     "execution_count": 20,
     "metadata": {},
     "output_type": "execute_result"
    }
   ],
   "source": [
    "b2 = np.transpose(h1) @ cov @ h1\n",
    "b2"
   ]
  },
  {
   "cell_type": "code",
   "execution_count": 23,
   "metadata": {},
   "outputs": [
    {
     "data": {
      "text/plain": [
       "array([[1.12457508]])"
      ]
     },
     "execution_count": 23,
     "metadata": {},
     "output_type": "execute_result"
    }
   ],
   "source": [
    "# Implied rf\n",
    "a0 - (a1 @ b0) / (1.4 - a0)"
   ]
  },
  {
   "cell_type": "markdown",
   "metadata": {},
   "source": [
    "$\\mu_{m}\\ =\\ \\alpha_{0}\\ +\\ \\frac{\\alpha_{1}\\beta_{0}}{\\alpha_{0}-r_{m}}$"
   ]
  },
  {
   "cell_type": "code",
   "execution_count": 24,
   "metadata": {},
   "outputs": [
    {
     "data": {
      "text/plain": [
       "array([[1.19303523]])"
      ]
     },
     "execution_count": 24,
     "metadata": {},
     "output_type": "execute_result"
    }
   ],
   "source": [
    "a0 + (a1 @ b0) / (a0 - 1.05)"
   ]
  },
  {
   "cell_type": "code",
   "execution_count": null,
   "metadata": {},
   "outputs": [],
   "source": []
  }
 ],
 "metadata": {
  "kernelspec": {
   "display_name": "OneDrive",
   "language": "python",
   "name": "python3"
  },
  "language_info": {
   "codemirror_mode": {
    "name": "ipython",
    "version": 3
   },
   "file_extension": ".py",
   "mimetype": "text/x-python",
   "name": "python",
   "nbconvert_exporter": "python",
   "pygments_lexer": "ipython3",
   "version": "3.11.5"
  }
 },
 "nbformat": 4,
 "nbformat_minor": 2
}
