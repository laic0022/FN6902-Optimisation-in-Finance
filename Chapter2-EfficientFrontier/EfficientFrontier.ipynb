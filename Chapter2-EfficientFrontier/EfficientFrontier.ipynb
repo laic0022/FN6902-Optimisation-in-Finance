{
 "cells": [
  {
   "cell_type": "code",
   "execution_count": 2,
   "metadata": {},
   "outputs": [],
   "source": [
    "import pandas as pd\n",
    "import numpy as np\n",
    "import matplotlib.pyplot as plt"
   ]
  },
  {
   "cell_type": "markdown",
   "metadata": {},
   "source": [
    "$\\text{The objective function with constraint}$\n",
    "\n",
    "$\\mathrm{min}\\{\\,-\\,t\\mu^{\\prime}x\\;+\\;\\frac{1}{2}x^{\\prime}\\Sigma x\\;\\mid\\;l^{\\prime}x\\;=\\;1\\}.$\n",
    "\n",
    "$\\text{From Definition 1.1 (see Section 1 . 1 ), the optimality conditions for (2.3) are:}$\n",
    "\n",
    "$t\\mu-\\Sigma x~=~u l,~~\\mathrm{and,}~~l^{\\prime}x~=~1.$\n",
    "\n",
    "$\\text{From Theorem 1 . 2 (see Section 1 . 1) these conditions are both necessary\n",
    "and sufficient for optimality. Solving the first for x gives}$\n",
    "\n",
    "$x~=~-u\\Sigma^{-1}l~+~t\\Sigma^{-1}\\mu.$\n",
    "\n",
    "$\\text{Applying the budget constraint gives a single equation for the multiplier\n",
    "u:}$\n",
    "\n",
    "$l^{\\prime}x~=~1~=~-u l^{\\prime}\\Sigma^{-1}l~+~t l^{\\prime}\\Sigma^{-1}\\mu,$\n",
    "\n",
    "\n",
    "$\\text{which has solution}$\n",
    "\n",
    "$u\\ =\\ {\\frac{-1}{l^{\\prime}\\Sigma^{-1}l}}\\ +\\ t{\\frac{l^{\\prime}\\Sigma^{-1}\\mu}{l^{\\prime}\\Sigma^{-1}l}}.$\n",
    "\n",
    "$\\text{Substituting u into (2.5) gives the efficient portfolios as explicit linear\n",
    "functions of the parameter t:}$\n",
    "\n",
    "$x\\;\\equiv\\;x(t)\\;=\\;\\frac{\\Sigma^{-1}l}{l^{\\prime}\\Sigma^{-1}l}\\;+\\;t(\\Sigma^{-1}\\mu\\;-\\;\\frac{l^{\\prime}\\Sigma^{-1}\\mu}{l^{\\prime}\\Sigma^{-1}l}\\Sigma^{-1}l).$\n",
    "\n",
    "$h_{0}\\ =\\ \\frac{\\Sigma^{-1}l}{l^{\\prime}\\Sigma^{-1}l}\\ \\ \\mathrm{and}\\ \\ h_{1}\\ =\\ \\Sigma^{-1}\\mu\\ -\\ \\frac{l^{\\prime}\\Sigma^{-1}\\mu}{l^{\\prime}\\Sigma^{-1}l}\\Sigma^{-1}l.$\n",
    "\n",
    "$\\text{Then the efficient portfolios are}$\n",
    "\n",
    "$x(t)~=~h_{0}~+~t h_{1}.$\n",
    "\n",
    "$\\mu_{p}\\;=\\;\\mu^{\\prime}x(t)\\;=\\;\\mu^{\\prime}h_{0}\\;+\\;t\\mu^{\\prime}h_{1},$\n",
    "\n",
    "$\\begin{array}{l l l l}{{\\sigma_{p}^{2}}}&{{=}}&{{\\left(h_{0}\\ +\\ t h_{1}\\right)^{\\prime}\\Sigma(h_{0}\\ +\\ t h_{1})}}\\\\ {{}}&{{=}}&{{h_{0}^{\\prime}\\Sigma h_{0}\\ +\\ 2t h_{1}^{\\prime}\\Sigma h_{0}\\ +\\ t^{2}h_{1}^{\\prime}\\Sigma h_{1}}}\\end{array}$\n",
    "\n",
    "$\\alpha_{0}\\ =\\ \\mu^{\\prime}h_{0},\\ \\ \\alpha_{1}\\ =\\ \\mu^{\\prime}h_{1}$\n",
    "\n",
    "$\\begin{array}{l}{{\\beta_{0}}}\\end{array}=\\left.h_{0}^{\\prime}\\Sigma h_{0},\\ \\ \\beta_{1}\\ =\\ h_{1}^{\\prime}\\Sigma h_{0}\\ \\ \\mathrm{and}\\ \\ \\beta_{2}\\ =\\ h_{1}^{\\prime}\\Sigma h_{1}.\\right.$\n",
    "\n",
    "$\\text{From (2.9) , (2. 10) , (2. 1 1 ) and (2. 12) , we now\n",
    "have}$\n",
    "\n",
    "$\\mu_{p}~=~\\alpha_{0}~+~\\alpha_{1}t~~\\mathrm{and}~~\\sigma_{p}^{2}~=~\\beta_{0}~+~2\\beta_{1}t~+~\\beta_{2}t^{2},$"
   ]
  },
  {
   "cell_type": "markdown",
   "metadata": {},
   "source": [
    "$\\text{Finally , we now\n",
    "have}$\n",
    "\n",
    "$\\sigma_{p}^{2}\\ -\\ \\beta_{0}\\ =\\ \\left(\\mu_{p}\\ -\\ \\alpha_{0}\\right)^{2}/\\alpha_{1}.$"
   ]
  },
  {
   "cell_type": "code",
   "execution_count": 22,
   "metadata": {},
   "outputs": [],
   "source": [
    "n = 3\n",
    "mu = np.array([1.1, 1.2, 1.3]).reshape(-1, 1)\n",
    "cov = [[10**-2, 0 , 0], [0, 5*10**-2 , 0], [0, 0 , 7*10**-2]]\n",
    "l = np.ones(n).reshape(-1, 1)"
   ]
  },
  {
   "cell_type": "code",
   "execution_count": 23,
   "metadata": {},
   "outputs": [
    {
     "data": {
      "text/plain": [
       "array([[100.        ,   0.        ,   0.        ],\n",
       "       [  0.        ,  20.        ,   0.        ],\n",
       "       [  0.        ,   0.        ,  14.28571429]])"
      ]
     },
     "execution_count": 23,
     "metadata": {},
     "output_type": "execute_result"
    }
   ],
   "source": [
    "np.linalg.inv(cov)"
   ]
  },
  {
   "cell_type": "code",
   "execution_count": 25,
   "metadata": {},
   "outputs": [
    {
     "data": {
      "text/plain": [
       "array([[0.74468085],\n",
       "       [0.14893617],\n",
       "       [0.10638298]])"
      ]
     },
     "execution_count": 25,
     "metadata": {},
     "output_type": "execute_result"
    }
   ],
   "source": [
    "h0 = (np.linalg.inv(cov) @ l) / (np.transpose(l) @ np.linalg.inv(cov) @ l)\n",
    "h0"
   ]
  },
  {
   "cell_type": "code",
   "execution_count": 36,
   "metadata": {},
   "outputs": [
    {
     "data": {
      "text/plain": [
       "array([[1.]])"
      ]
     },
     "execution_count": 36,
     "metadata": {},
     "output_type": "execute_result"
    }
   ],
   "source": [
    "# check budget constraint (should be 1)\n",
    "np.transpose(l) @ h0"
   ]
  },
  {
   "cell_type": "code",
   "execution_count": 40,
   "metadata": {},
   "outputs": [
    {
     "data": {
      "text/plain": [
       "array([[-3.61702128],\n",
       "       [ 1.27659574],\n",
       "       [ 2.34042553]])"
      ]
     },
     "execution_count": 40,
     "metadata": {},
     "output_type": "execute_result"
    }
   ],
   "source": [
    "h1 = np.linalg.inv(cov) @ mu - (np.transpose(l) @ np.linalg.inv(cov) @ mu) * h0\n",
    "h1"
   ]
  },
  {
   "cell_type": "code",
   "execution_count": 41,
   "metadata": {},
   "outputs": [
    {
     "data": {
      "text/plain": [
       "array([[7.10542736e-15]])"
      ]
     },
     "execution_count": 41,
     "metadata": {},
     "output_type": "execute_result"
    }
   ],
   "source": [
    "# check budget constraint (should be 0)\n",
    "np.transpose(l) @ h1"
   ]
  },
  {
   "cell_type": "code",
   "execution_count": 42,
   "metadata": {},
   "outputs": [
    {
     "data": {
      "text/plain": [
       "array([[1.13617021]])"
      ]
     },
     "execution_count": 42,
     "metadata": {},
     "output_type": "execute_result"
    }
   ],
   "source": [
    "a0 = np.transpose(mu) @ h0\n",
    "a0"
   ]
  },
  {
   "cell_type": "code",
   "execution_count": 43,
   "metadata": {},
   "outputs": [
    {
     "data": {
      "text/plain": [
       "array([[0.59574468]])"
      ]
     },
     "execution_count": 43,
     "metadata": {},
     "output_type": "execute_result"
    }
   ],
   "source": [
    "a1 = np.transpose(mu) @ h1\n",
    "a1"
   ]
  },
  {
   "cell_type": "code",
   "execution_count": 44,
   "metadata": {},
   "outputs": [
    {
     "data": {
      "text/plain": [
       "array([[0.00744681]])"
      ]
     },
     "execution_count": 44,
     "metadata": {},
     "output_type": "execute_result"
    }
   ],
   "source": [
    "b0 = np.transpose(h0) @ cov @ h0\n",
    "b0"
   ]
  },
  {
   "cell_type": "code",
   "execution_count": 45,
   "metadata": {},
   "outputs": [
    {
     "data": {
      "text/plain": [
       "array([[4.85722573e-17]])"
      ]
     },
     "execution_count": 45,
     "metadata": {},
     "output_type": "execute_result"
    }
   ],
   "source": [
    "b1 = np.transpose(h0) @ cov @ h1\n",
    "b1"
   ]
  },
  {
   "cell_type": "code",
   "execution_count": 46,
   "metadata": {},
   "outputs": [
    {
     "data": {
      "text/plain": [
       "array([[0.59574468]])"
      ]
     },
     "execution_count": 46,
     "metadata": {},
     "output_type": "execute_result"
    }
   ],
   "source": [
    "b2 = np.transpose(h1) @ cov @ h1\n",
    "b2"
   ]
  },
  {
   "cell_type": "code",
   "execution_count": 48,
   "metadata": {},
   "outputs": [],
   "source": [
    "mu_p = np.linspace(0, 2, 50)"
   ]
  },
  {
   "cell_type": "code",
   "execution_count": 51,
   "metadata": {},
   "outputs": [],
   "source": [
    "sigma_p2 = b0 + (mu_p - a0) ** 2 / a1"
   ]
  },
  {
   "cell_type": "code",
   "execution_count": 58,
   "metadata": {},
   "outputs": [
    {
     "data": {
      "text/plain": [
       "[<matplotlib.lines.Line2D at 0x23b1d88d3d0>]"
      ]
     },
     "execution_count": 58,
     "metadata": {},
     "output_type": "execute_result"
    },
    {
     "data": {
      "image/png": "[encoded data removed]",
      "text/plain": [
       "<Figure size 640x480 with 1 Axes>"
      ]
     },
     "metadata": {},
     "output_type": "display_data"
    }
   ],
   "source": [
    "plt.plot(sigma_p2.reshape(-1), mu_p)"
   ]
  },
  {
   "cell_type": "code",
   "execution_count": null,
   "metadata": {},
   "outputs": [],
   "source": []
  }
 ],
 "metadata": {
  "kernelspec": {
   "display_name": "OneDrive",
   "language": "python",
   "name": "python3"
  },
  "language_info": {
   "codemirror_mode": {
    "name": "ipython",
    "version": 3
   },
   "file_extension": ".py",
   "mimetype": "text/x-python",
   "name": "python",
   "nbconvert_exporter": "python",
   "pygments_lexer": "ipython3",
   "version": "3.11.5"
  }
 },
 "nbformat": 4,
 "nbformat_minor": 2
}
