{
 "cells": [
  {
   "cell_type": "code",
   "execution_count": 1,
   "metadata": {},
   "outputs": [],
   "source": [
    "import pandas as pd\n",
    "import numpy as np\n",
    "import matplotlib.pyplot as plt"
   ]
  },
  {
   "cell_type": "markdown",
   "metadata": {},
   "source": [
    "$\\mathrm{min}\\{c^{\\prime}x~+~\\frac{1}{2}x^{\\prime}C x~\\mid~A x~\\leq~b\\},$\n",
    "\n",
    "$\\begin{array}{c}{{A x_{0}\\leq b,}}\\\\ {{-\\nabla f(x_{0})=A^{\\prime}u,\\ \\ u\\geq0,}}\\\\ {{u^{\\prime}(A x_{0}-b)=0.}}\\end{array}$"
   ]
  },
  {
   "cell_type": "code",
   "execution_count": null,
   "metadata": {},
   "outputs": [],
   "source": []
  },
  {
   "cell_type": "markdown",
   "metadata": {},
   "source": [
    "$\\mathrm{min}\\bigl\\{c^{\\prime}x~+~{\\frac{1}{2}}x^{\\prime}C x~\\mid~A_{1}x~\\leq~b_{1},~A_{2}x~=~b_{2}\\bigr\\}$\n",
    "\n",
    "$\\begin{array}{l l l l}{{1.}}&{{A_{1}x_{0}\\ \\le\\ b_{1},\\ \\ A_{2}x_{0}\\ =\\ b_{2},}}\\\\ {{2.}}&{{-\\nabla f(x_{0})\\ =\\ A_{1}^{\\prime}u\\ +\\ \\ A_{2}^{\\prime}v,\\ \\ u\\geq0,}}\\\\ {{3.}}&{{u^{\\prime}(A_{1}x_{0}-b_{1})\\ =\\ 0.}}\\end{array}$"
   ]
  },
  {
   "cell_type": "markdown",
   "metadata": {},
   "source": []
  },
  {
   "cell_type": "code",
   "execution_count": null,
   "metadata": {},
   "outputs": [],
   "source": []
  }
 ],
 "metadata": {
  "kernelspec": {
   "display_name": "OneDrive",
   "language": "python",
   "name": "python3"
  },
  "language_info": {
   "codemirror_mode": {
    "name": "ipython",
    "version": 3
   },
   "file_extension": ".py",
   "mimetype": "text/x-python",
   "name": "python",
   "nbconvert_exporter": "python",
   "pygments_lexer": "ipython3",
   "version": "3.11.5"
  }
 },
 "nbformat": 4,
 "nbformat_minor": 2
}
