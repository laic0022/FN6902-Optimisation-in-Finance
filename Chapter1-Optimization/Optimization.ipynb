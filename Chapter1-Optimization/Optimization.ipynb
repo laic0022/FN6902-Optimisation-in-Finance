{
 "cells": [
  {
   "cell_type": "code",
   "execution_count": 1,
   "metadata": {},
   "outputs": [],
   "source": [
    "import pandas as pd\n",
    "import numpy as np\n",
    "import matplotlib.pyplot as plt"
   ]
  },
  {
   "cell_type": "markdown",
   "metadata": {},
   "source": [
    "Theorem 1.3 \n",
    "\n",
    "$x_0$ is optimal for $(1.4)$ if and only if there exists an\n",
    "$m$-vector $u$ such that $(x_0 , u)$ satisfies the linear equations\n",
    "\n",
    "$$\\begin{bmatrix}\n",
    "C & A'\\\\ \n",
    "A & 0\n",
    "\\end{bmatrix}\n",
    "\\begin{bmatrix}\n",
    "x_0\\\\ \n",
    "u\n",
    "\\end{bmatrix}\n",
    "=\n",
    "\\begin{bmatrix}\n",
    "-c\\\\ \n",
    "b\n",
    "\\end{bmatrix}\n",
    "$$"
   ]
  },
  {
   "cell_type": "code",
   "execution_count": 19,
   "metadata": {},
   "outputs": [],
   "source": [
    "n = 2\n",
    "m = 1\n",
    "c = np.array([-4, -4])\n",
    "BigC = np.array([[2, 0], [0, 2]])\n",
    "A = np.array([[1, 1]])\n",
    "b = np.array([2])\n",
    "\n",
    "def check_data(Sigma, tol):\n",
    "    if np.linalg.norm(Sigma - Sigma.T) > tol:\n",
    "        raise ValueError('Error: Covariance matrix is not symmetric')\n",
    "\n",
    "    if np.min(np.linalg.eigvals(Sigma)) < tol:\n",
    "        raise ValueError('Error: Covariance matrix is not positive definite')\n",
    "\n",
    "check_data(BigC, 1e-6)\n",
    "\n",
    "H = np.vstack([np.hstack([BigC, A.T]), np.hstack([A, np.zeros((m, m))])])\n",
    "rhs = np.vstack([-c.reshape(-1, 1), b.reshape(-1, 1)])\n",
    "y = np.linalg.solve(H, rhs)\n",
    "x = y[:n]\n",
    "u = y[n:n+m]"
   ]
  }
 ],
 "metadata": {
  "kernelspec": {
   "display_name": "OneDrive",
   "language": "python",
   "name": "python3"
  },
  "language_info": {
   "codemirror_mode": {
    "name": "ipython",
    "version": 3
   },
   "file_extension": ".py",
   "mimetype": "text/x-python",
   "name": "python",
   "nbconvert_exporter": "python",
   "pygments_lexer": "ipython3",
   "version": "3.11.5"
  }
 },
 "nbformat": 4,
 "nbformat_minor": 2
}
